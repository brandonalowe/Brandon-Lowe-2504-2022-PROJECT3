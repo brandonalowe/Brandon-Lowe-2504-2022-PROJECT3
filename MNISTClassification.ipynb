{
 "cells": [
  {
   "cell_type": "markdown",
   "metadata": {},
   "source": [
    "# MATH2504 Semester 2, 2022 -  Project 3\n",
    "\n",
    "## Task 2 - Basic ML on MNIST and FashionMNIST\n",
    "\n",
    "Student name : Brandon Lowe <br />\n",
    "Student ID : 43162950 <br />\n",
    "<p><a href=\"https://github.com/Jaanlo/Brandon-Lowe-2504-2022-PROJECT3\">GitHub Repo</a></p>"
   ]
  },
  {
   "cell_type": "code",
   "execution_count": 18,
   "metadata": {},
   "outputs": [
    {
     "name": "stderr",
     "output_type": "stream",
     "text": [
      "\u001b[32m\u001b[1m  Activating\u001b[22m\u001b[39m project at `~/Documents/University/2022/Sem2-2022/MATH2504-programming-of-simulation-analysis-and-learning-systems/project-3/Brandon-Lowe-2504-2022-PROJECT3`\n"
     ]
    },
    {
     "name": "stderr",
     "output_type": "stream",
     "text": [
      "\u001b[32m\u001b[1m  No Changes\u001b[22m\u001b[39m to `~/Documents/University/2022/Sem2-2022/MATH2504-programming-of-simulation-analysis-and-learning-systems/project-3/Brandon-Lowe-2504-2022-PROJECT3/Project.toml`\n",
      "\u001b[32m\u001b[1m  No Changes\u001b[22m\u001b[39m to `~/Documents/University/2022/Sem2-2022/MATH2504-programming-of-simulation-analysis-and-learning-systems/project-3/Brandon-Lowe-2504-2022-PROJECT3/Manifest.toml`\n"
     ]
    },
    {
     "data": {
      "text/plain": [
       "LinearRegression (generic function with 2 methods)"
      ]
     },
     "metadata": {},
     "output_type": "display_data"
    }
   ],
   "source": [
    "using Pkg\n",
    "Pkg.activate(\".\")\n",
    "Pkg.resolve()\n",
    "\n",
    "include(\"src/mnist-classification/dependencies.jl\") # dependencies for task 2"
   ]
  },
  {
   "cell_type": "markdown",
   "metadata": {},
   "source": [
    "### Task 2.1 One vs. all (rest) Linear and Logistic"
   ]
  },
  {
   "cell_type": "code",
   "execution_count": 19,
   "metadata": {},
   "outputs": [
    {
     "name": "stdout",
     "output_type": "stream",
     "text": [
      "size(Adag) = (785, 60000)\n",
      "size(Adag) = "
     ]
    },
    {
     "name": "stdout",
     "output_type": "stream",
     "text": [
      "(785, 60000)\n"
     ]
    },
    {
     "name": "stdout",
     "output_type": "stream",
     "text": [
      "0.8603\n",
      "0.8113\n"
     ]
    }
   ],
   "source": [
    "MNIST_train_imgs, MNIST_train_labels = MNIST.traindata(Float64);    # Training data for MNIST ML dataset\n",
    "MNIST_test_imgs, MNIST_test_labels = MNIST.testdata(Float64);       # Testing data for MNIST ML dataset\n",
    "\n",
    "Fashion_train_imgs, Fashion_train_labels = FashionMNIST.traindata(Float64); # Training data for FashionMNIST ML dataset\n",
    "Fashion_test_imgs, Fashion_test_labels = FashionMNIST.testdata(Float64);    # Testing data for FashionMNIST ML dataset\n",
    "\n",
    "\n",
    "acc_linear_MNIST, _ = LinearRegression(MNIST_train_imgs, MNIST_train_labels, MNIST_test_imgs, MNIST_test_labels)\n",
    "acc_linear_Fashion, _ = LinearRegression(Fashion_train_imgs, Fashion_train_labels, Fashion_test_imgs, Fashion_test_labels)\n",
    "\n",
    "println(acc_linear_MNIST)\n",
    "println(acc_linear_Fashion)\n",
    "\n"
   ]
  },
  {
   "cell_type": "code",
   "execution_count": null,
   "metadata": {},
   "outputs": [],
   "source": []
  }
 ],
 "metadata": {
  "kernelspec": {
   "display_name": "Julia 1.8.2",
   "language": "julia",
   "name": "julia-1.8"
  },
  "language_info": {
   "file_extension": ".jl",
   "mimetype": "application/julia",
   "name": "julia",
   "version": "1.8.2"
  },
  "orig_nbformat": 4
 },
 "nbformat": 4,
 "nbformat_minor": 2
}
