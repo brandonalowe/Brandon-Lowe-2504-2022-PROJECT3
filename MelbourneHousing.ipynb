{
 "cells": [
  {
   "cell_type": "markdown",
   "metadata": {},
   "source": [
    "# MATH2504 Semester 2, 2022 -  Project 3\n",
    "\n",
    "## Task 1 - Melbourne Housing Price Data\n",
    "\n",
    "Student name : Brandon Lowe <br />\n",
    "Student ID : 43162950 <br />\n",
    "<p><a href=\"https://github.com/Jaanlo/Brandon-Lowe-2504-2022-PROJECT3\">GitHub Repo</a></p>"
   ]
  },
  {
   "cell_type": "code",
   "execution_count": 1,
   "metadata": {},
   "outputs": [
    {
     "name": "stderr",
     "output_type": "stream",
     "text": [
      "\u001b[32m\u001b[1m  Activating\u001b[22m\u001b[39m new project at `~/Documents/University/2022/Sem2-2022/MATH2504-programming-of-simulation-analysis-and-learning-systems/project-3/Brandon-Lowe-2504-2022-PROJECT3`\n"
     ]
    }
   ],
   "source": [
    "using Pkg\n",
    "Pkg.activate(\".\")"
   ]
  },
  {
   "cell_type": "markdown",
   "metadata": {},
   "source": [
    "### Task 1.1 Exploratory data of single variables"
   ]
  }
 ],
 "metadata": {
  "kernelspec": {
   "display_name": "Julia 1.7.2",
   "language": "julia",
   "name": "julia-1.7"
  },
  "language_info": {
   "file_extension": ".jl",
   "mimetype": "application/julia",
   "name": "julia",
   "version": "1.7.2"
  },
  "orig_nbformat": 4,
  "vscode": {
   "interpreter": {
    "hash": "916dbcbb3f70747c44a77c7bcd40155683ae19c65e1c03b4aa3499c5328201f1"
   }
  }
 },
 "nbformat": 4,
 "nbformat_minor": 2
}
